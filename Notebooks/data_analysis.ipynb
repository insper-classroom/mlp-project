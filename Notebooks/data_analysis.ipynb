{
 "cells": [
  {
   "cell_type": "markdown",
   "id": "aeccf7b3",
   "metadata": {},
   "source": [
    "# Loan Approval Classification\n",
    "\n",
    "The dataset chosen for this MLP implementation can found [here](https://www.kaggle.com/datasets/taweilo/loan-approval-classification-data)."
   ]
  },
  {
   "cell_type": "code",
   "execution_count": 3,
   "id": "be6d5b34",
   "metadata": {},
   "outputs": [
    {
     "name": "stdout",
     "output_type": "stream",
     "text": [
      "Running: kaggle datasets download -d taweilo/loan-approval-classification-data -p ./data/loan_approval --unzip\n",
      "Dataset downloaded successfully to ./data/loan_approval\n"
     ]
    }
   ],
   "source": [
    "import os\n",
    "import sys\n",
    "import subprocess\n",
    "\n",
    "def download_kaggle_dataset(dataset_slug: str, target_dir: str):\n",
    "    \"\"\"\n",
    "    Downloads a dataset from Kaggle to the target directory.\n",
    "    \n",
    "    Args:\n",
    "        dataset_slug: e.g. \"taweilo/loan-approval-classification-data\"\n",
    "        target_dir: local path to save dataset\n",
    "    \"\"\"\n",
    "    # Ensure kaggle CLI is installed\n",
    "    try:\n",
    "        import kaggle\n",
    "    except ImportError:\n",
    "        print(\"kaggle package not installed. Installing...\")\n",
    "        subprocess.check_call([sys.executable, \"-m\", \"pip\", \"install\", \"kaggle\"])\n",
    "    \n",
    "    # Make sure the target directory exists\n",
    "    os.makedirs(target_dir, exist_ok=True)\n",
    "    \n",
    "    # Use kaggle API to download\n",
    "    cmd = [\n",
    "        \"kaggle\", \"datasets\", \"download\",\n",
    "        \"-d\", dataset_slug,\n",
    "        \"-p\", target_dir,\n",
    "        \"--unzip\"\n",
    "    ]\n",
    "    print(\"Running:\", \" \".join(cmd))\n",
    "    result = subprocess.run(cmd, capture_output=True, text=True)\n",
    "    if result.returncode != 0:\n",
    "        print(\"Error downloading dataset:\")\n",
    "        print(result.stderr)\n",
    "        sys.exit(1)\n",
    "    else:\n",
    "        print(\"Dataset downloaded successfully to\", target_dir)\n",
    "\n",
    "if __name__ == \"__main__\":\n",
    "    # e.g., use current working directory’s “data” subfolder\n",
    "    dataset = \"taweilo/loan-approval-classification-data\"\n",
    "    out_dir = \"./data/loan_approval\"\n",
    "    \n",
    "    download_kaggle_dataset(dataset, out_dir)\n",
    "\n"
   ]
  },
  {
   "cell_type": "code",
   "execution_count": null,
   "id": "126c07af",
   "metadata": {},
   "outputs": [],
   "source": []
  }
 ],
 "metadata": {
  "kernelspec": {
   "display_name": "env",
   "language": "python",
   "name": "python3"
  },
  "language_info": {
   "codemirror_mode": {
    "name": "ipython",
    "version": 3
   },
   "file_extension": ".py",
   "mimetype": "text/x-python",
   "name": "python",
   "nbconvert_exporter": "python",
   "pygments_lexer": "ipython3",
   "version": "3.12.5"
  }
 },
 "nbformat": 4,
 "nbformat_minor": 5
}
