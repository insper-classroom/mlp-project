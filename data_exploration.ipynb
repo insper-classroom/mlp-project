{
 "cells": [
  {
   "cell_type": "code",
   "execution_count": 1,
   "id": "f814f4a1",
   "metadata": {},
   "outputs": [
    {
     "ename": "ModuleNotFoundError",
     "evalue": "No module named 'pandas'",
     "output_type": "error",
     "traceback": [
      "\u001b[31m---------------------------------------------------------------------------\u001b[39m",
      "\u001b[31mModuleNotFoundError\u001b[39m                       Traceback (most recent call last)",
      "\u001b[36mCell\u001b[39m\u001b[36m \u001b[39m\u001b[32mIn[1]\u001b[39m\u001b[32m, line 2\u001b[39m\n\u001b[32m      1\u001b[39m \u001b[38;5;66;03m# Célula 1: Importações\u001b[39;00m\n\u001b[32m----> \u001b[39m\u001b[32m2\u001b[39m \u001b[38;5;28;01mimport\u001b[39;00m\u001b[38;5;250m \u001b[39m\u001b[34;01mpandas\u001b[39;00m\u001b[38;5;250m \u001b[39m\u001b[38;5;28;01mas\u001b[39;00m\u001b[38;5;250m \u001b[39m\u001b[34;01mpd\u001b[39;00m\n\u001b[32m      3\u001b[39m \u001b[38;5;28;01mimport\u001b[39;00m\u001b[38;5;250m \u001b[39m\u001b[34;01mmatplotlib\u001b[39;00m\u001b[34;01m.\u001b[39;00m\u001b[34;01mpyplot\u001b[39;00m\u001b[38;5;250m \u001b[39m\u001b[38;5;28;01mas\u001b[39;00m\u001b[38;5;250m \u001b[39m\u001b[34;01mplt\u001b[39;00m\n\u001b[32m      4\u001b[39m \u001b[38;5;28;01mimport\u001b[39;00m\u001b[38;5;250m \u001b[39m\u001b[34;01mseaborn\u001b[39;00m\u001b[38;5;250m \u001b[39m\u001b[38;5;28;01mas\u001b[39;00m\u001b[38;5;250m \u001b[39m\u001b[34;01msns\u001b[39;00m\n",
      "\u001b[31mModuleNotFoundError\u001b[39m: No module named 'pandas'"
     ]
    }
   ],
   "source": [
    "# Célula 1: Importações\n",
    "import pandas as pd\n",
    "import matplotlib.pyplot as plt\n",
    "import seaborn as sns\n",
    "import math\n",
    "\n",
    "# Configuração para melhorar a visualização dos gráficos\n",
    "%matplotlib inline\n",
    "sns.set_style('whitegrid')\n",
    "plt.rcParams['figure.figsize'] = (12, 8)\n",
    "\n",
    "print(\"Bibliotecas importadas com sucesso!\")"
   ]
  },
  {
   "cell_type": "code",
   "execution_count": null,
   "id": "fbafc109",
   "metadata": {},
   "outputs": [],
   "source": [
    "# Célula 2: Leitura do Arquivo CSV\n",
    "\n",
    "caminho_do_arquivo = 'https://raw.githubusercontent.com/datasciencedojo/datasets/master/titanic.csv'\n",
    "\n",
    "# Se o seu arquivo estiver no mesmo diretório do notebook, você pode usar:\n",
    "# caminho_do_arquivo = 'seu_arquivo.csv'\n",
    "\n",
    "try:\n",
    "    df = pd.read_csv(caminho_do_arquivo)\n",
    "    print(\"Arquivo CSV carregado com sucesso!\")\n",
    "    print(f\"O dataset tem {df.shape[0]} linhas e {df.shape[1]} colunas.\")\n",
    "except FileNotFoundError:\n",
    "    print(f\"Erro: O arquivo não foi encontrado no caminho '{caminho_do_arquivo}'\")\n",
    "\n",
    "# Exibe as 5 primeiras linhas para uma inspeção rápida\n",
    "df.head()"
   ]
  },
  {
   "cell_type": "code",
   "execution_count": null,
   "id": "072d6c5e",
   "metadata": {},
   "outputs": [],
   "source": [
    "# Célula 3: Identificação dos Tipos de Colunas\n",
    "\n",
    "# Seleciona colunas numéricas (números inteiros e de ponto flutuante)\n",
    "colunas_numericas = df.select_dtypes(include=['int64', 'float64']).columns.tolist()\n",
    "\n",
    "# Seleciona colunas categóricas (tipo 'object', que geralmente armazena texto)\n",
    "colunas_categoricas = df.select_dtypes(include=['object']).columns.tolist()\n",
    "\n",
    "# Excluímos colunas de ID ou com alta cardinalidade que não agregam em gráficos de categoria\n",
    "# (Ajuste essa lista conforme seu dataset)\n",
    "colunas_para_excluir = ['Name', 'ID']\n",
    "colunas_categoricas = [col for col in colunas_categoricas if col not in colunas_para_excluir]\n",
    "\n",
    "\n",
    "print(\"Colunas Numéricas Identificadas:\")\n",
    "print(colunas_numericas)\n",
    "print(\"\\nColunas Categóricas para Análise:\")\n",
    "print(colunas_categoricas)"
   ]
  },
  {
   "cell_type": "code",
   "execution_count": null,
   "id": "aeae296c",
   "metadata": {},
   "outputs": [],
   "source": [
    "# Célula 4: Grid de Gráficos para Variáveis Numéricas\n",
    "\n",
    "# Define o número de colunas do grid\n",
    "n_cols = 3\n",
    "# Calcula o número de linhas necessárias\n",
    "n_rows = math.ceil(len(colunas_numericas) / n_cols)\n",
    "\n",
    "# Cria a figura e os eixos (subplots)\n",
    "fig, axes = plt.subplots(n_rows, n_cols, figsize=(15, n_rows * 4))\n",
    "# Achata o array de eixos para facilitar a iteração\n",
    "axes = axes.flatten()\n",
    "\n",
    "# Itera sobre cada coluna numérica e seu eixo correspondente\n",
    "for i, col in enumerate(colunas_numericas):\n",
    "    sns.histplot(data=df, x=col, kde=True, ax=axes[i])\n",
    "    axes[i].set_title(f'Distribuição de {col}', fontsize=14)\n",
    "    axes[i].set_xlabel('') # Remove o label do eixo x para um visual mais limpo\n",
    "\n",
    "# Remove eixos vazios (se o número de gráficos não preencher o grid perfeitamente)\n",
    "for i in range(len(colunas_numericas), len(axes)):\n",
    "    fig.delaxes(axes[i])\n",
    "\n",
    "# Ajusta o layout para evitar sobreposição de títulos\n",
    "plt.tight_layout()\n",
    "plt.show()"
   ]
  }
 ],
 "metadata": {
  "kernelspec": {
   "display_name": "env",
   "language": "python",
   "name": "python3"
  },
  "language_info": {
   "codemirror_mode": {
    "name": "ipython",
    "version": 3
   },
   "file_extension": ".py",
   "mimetype": "text/x-python",
   "name": "python",
   "nbconvert_exporter": "python",
   "pygments_lexer": "ipython3",
   "version": "3.12.5"
  }
 },
 "nbformat": 4,
 "nbformat_minor": 5
}
