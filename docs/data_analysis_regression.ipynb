{
 "cells": [
  {
   "cell_type": "markdown",
   "id": "3662515d",
   "metadata": {},
   "source": [
    "# Students Performance in Exams\n",
    "\n",
    "## Dataset Overview\n",
    "\n",
    "This dataset provides a detailed overview of high school students' performance on exams, focusing on their scores in math, reading, and writing. It contains 1,000 records and includes essential demographic, social, and academic variables known to influence educational outcomes.\n",
    "\n",
    "The dataset represents a collection of student information that can be used to train a machine learning model to predict math scores based on the other variables.\n",
    "\n",
    "## Features\n",
    "\n",
    "### Numerical Features\n",
    "\n",
    "- **reading score:** The student's score in reading (scale from 0 to 100).\n",
    "- **writing score:** The student's score in writing (scale from 0 to 100).\n",
    "\n",
    "### Categorical Features\n",
    "\n",
    "- **gender:** The student's gender.\n",
    "- **race/ethnicity:** The student's race or ethnicity, categorized into groups.\n",
    "- **parental level of education:** The educational level of the parents.\n",
    "- **lunch:** The type of lunch the student receives (standard or free/reduced), often used as an indicator of socioeconomic status.\n",
    "- **test preparation course:** Indicates whether the student completed a test preparation course.\n",
    "\n",
    "### Target Variable\n",
    "\n",
    "- **math score:** The student's score in math (scale from 0 to 100).\n",
    "\n",
    "## Domain Knowledge\n",
    "\n",
    "In the context of educational performance analysis, several factors are important:\n",
    "\n",
    "-   **Socioeconomic Status:** Often inferred from variables like `lunch` (free/reduced lunch), this can have a significant correlation with access to educational resources and, consequently, with grades.\n",
    "-   **Parental Level of Education:** The family environment and the value placed on education, often reflected in the parents' level of schooling, can influence a student's engagement and performance.\n",
    "-   **Test Preparation:** Participation in preparatory courses can equip students with specific strategies and knowledge for the exams, directly impacting their scores.\n",
    "\n",
    "## The Challenge\n",
    "\n",
    "This project simulates one of the most classic challenges in the education sector: understanding and predicting students' academic performance.\n",
    "\n",
    "### The Core Challenge\n",
    "\n",
    "The core challenge is to build a model that accurately identifies the key factors influencing students' success in math. This involves focusing on the following objective:\n",
    "\n",
    "-   **Identifying At-Risk Students:** Early recognition of students who are more likely to perform poorly in math, allowing for future pedagogical interventions to be applied."
   ]
  }
 ],
 "metadata": {
  "kernelspec": {
   "display_name": "env",
   "language": "python",
   "name": "python3"
  },
  "language_info": {
   "codemirror_mode": {
    "name": "ipython",
    "version": 3
   },
   "file_extension": ".py",
   "mimetype": "text/x-python",
   "name": "python",
   "nbconvert_exporter": "python",
   "pygments_lexer": "ipython3",
   "version": "3.12.5"
  }
 },
 "nbformat": 4,
 "nbformat_minor": 5
}
